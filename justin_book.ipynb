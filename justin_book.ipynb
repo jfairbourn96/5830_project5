{
 "cells": [
  {
   "cell_type": "code",
   "execution_count": 2,
   "metadata": {},
   "outputs": [],
   "source": [
    "from matplotlib import pyplot as plt\n",
    "import pandas as pd\n",
    "import numpy as np\n",
    "import random\n",
    "import re"
   ]
  },
  {
   "cell_type": "code",
   "execution_count": 3,
   "metadata": {},
   "outputs": [],
   "source": [
    "comments = pd.read_csv('data/train-balanced-sarcasm.csv')"
   ]
  },
  {
   "cell_type": "code",
   "execution_count": 4,
   "metadata": {},
   "outputs": [
    {
     "data": {
      "text/plain": [
       "1    183069\n",
       "0    169832\n",
       "Name: label, dtype: int64"
      ]
     },
     "metadata": {},
     "output_type": "display_data"
    }
   ],
   "source": [
    "subreddit_counts = comments['subreddit'].value_counts()\n",
    "comments_counts = comments.join(subreddit_counts, on='subreddit', rsuffix='_count')\n",
    "comments_counts = comments_counts[comments_counts.subreddit_count > 8000]\n",
    "subreddit_data = pd.get_dummies(comments_counts['subreddit'], prefix='r',sparse=True)\n",
    "display(comments_counts['label'].value_counts())\n",
    "# 1    183069\n",
    "# 0    169832\n",
    "# close enough!"
   ]
  },
  {
   "cell_type": "code",
   "execution_count": 7,
   "metadata": {},
   "outputs": [
    {
     "data": {
      "text/plain": [
       "0.4473147967213137"
      ]
     },
     "metadata": {},
     "output_type": "display_data"
    },
    {
     "data": {
      "text/plain": [
       "0.6316253387898161"
      ]
     },
     "metadata": {},
     "output_type": "display_data"
    }
   ],
   "source": [
    "# Drop everything except for the subreddit dummy values and the up/down scores and the labels\n",
    "comments_test = comments_counts.drop(['comment', 'subreddit', 'author', 'date', 'created_utc', 'parent_comment','score','subreddit_count'], axis=1)\n",
    "dummy_comments = pd.concat([comments_test, subreddit_data], axis=1)\n",
    "\n",
    "# Take absolute value of each score since NBC's don't like negative numbers\n",
    "dummy_comments['ups'] = abs(dummy_comments['ups'])\n",
    "dummy_comments['downs'] = abs(dummy_comments['downs'])\n",
    "\n",
    "X = dummy_comments.drop('label', axis=1).values\n",
    "y = dummy_comments['label'].values\n",
    "\n",
    "from sklearn.model_selection import train_test_split\n",
    "from sklearn.metrics import precision_recall_fscore_support\n",
    "from sklearn.naive_bayes import MultinomialNB\n",
    "\n",
    "f_scores_0 = []\n",
    "f_scores_1 = []\n",
    "\n",
    "for _ in range(20):\n",
    "    X_train, X_test, y_train, y_test = train_test_split(X, y)\n",
    "    \n",
    "    clf = MultinomialNB()\n",
    "    clf.fit(X_train, y_train)\n",
    "    y_pred = clf.predict(X_test)\n",
    "\n",
    "    p,r,f,s = precision_recall_fscore_support(y_test, y_pred)\n",
    "    \n",
    "    f_scores_0.append(f[0])\n",
    "    f_scores_1.append(f[1])\n",
    "\n",
    "display(sum(f_scores_0) / float(len(f_scores_0)))\n",
    "display(sum(f_scores_1) / float(len(f_scores_1)))"
   ]
  },
  {
   "cell_type": "code",
   "execution_count": 8,
   "metadata": {},
   "outputs": [],
   "source": [
    "# Drop everything except for the subreddit dummy values and the labels\n",
    "comments_test_no_scores = comments_counts.drop(['comment', 'subreddit', 'author', 'date', 'created_utc', 'parent_comment','score','subreddit_count','ups','downs'], axis=1)\n",
    "dummy_comments_no_scores = pd.concat([comments_test_no_scores, subreddit_data], axis=1)\n",
    "\n",
    "X = dummy_comments_no_scores.drop('label', axis=1).values\n",
    "y = dummy_comments_no_scores['label'].values\n",
    "\n",
    "from sklearn.model_selection import train_test_split\n",
    "from sklearn.metrics import precision_recall_fscore_support\n",
    "from sklearn.naive_bayes import MultinomialNB\n",
    "\n",
    "f_scores_0_no_scores = []\n",
    "f_scores_1_no_scores = []\n",
    "\n",
    "for _ in range(20):\n",
    "    X_train, X_test, y_train, y_test = train_test_split(X, y)\n",
    "    \n",
    "    clf = MultinomialNB()\n",
    "    clf.fit(X_train, y_train)\n",
    "    y_pred = clf.predict(X_test)\n",
    "\n",
    "    p,r,f,s = precision_recall_fscore_support(y_test, y_pred)\n",
    "    \n",
    "    f_scores_0_no_scores.append(f[0])\n",
    "    f_scores_1_no_scores.append(f[1])"
   ]
  },
  {
   "cell_type": "code",
   "execution_count": null,
   "metadata": {},
   "outputs": [],
   "source": []
  }
 ],
 "metadata": {
  "kernelspec": {
   "display_name": "Python 3",
   "language": "python",
   "name": "python3"
  },
  "language_info": {
   "codemirror_mode": {
    "name": "ipython",
    "version": 3
   },
   "file_extension": ".py",
   "mimetype": "text/x-python",
   "name": "python",
   "nbconvert_exporter": "python",
   "pygments_lexer": "ipython3",
   "version": "3.6.4"
  }
 },
 "nbformat": 4,
 "nbformat_minor": 2
}
